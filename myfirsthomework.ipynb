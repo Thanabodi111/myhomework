{
 "cells": [
  {
   "cell_type": "code",
   "execution_count": null,
   "id": "7b86ee60-7292-415d-bc87-b83db98de584",
   "metadata": {},
   "outputs": [],
   "source": [
    "thanabodi lalaeng 6612732111 ธนบดี หล้าแหล่ง"
   ]
  }
 ],
 "metadata": {
  "kernelspec": {
   "display_name": "Python 3 (ipykernel)",
   "language": "python",
   "name": "python3"
  },
  "language_info": {
   "codemirror_mode": {
    "name": "ipython",
    "version": 3
   },
   "file_extension": ".py",
   "mimetype": "text/x-python",
   "name": "python",
   "nbconvert_exporter": "python",
   "pygments_lexer": "ipython3",
   "version": "3.11.5"
  }
 },
 "nbformat": 4,
 "nbformat_minor": 5
}
